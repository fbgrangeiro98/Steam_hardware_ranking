{
 "cells": [
  {
   "cell_type": "code",
   "execution_count": 1,
   "metadata": {},
   "outputs": [],
   "source": [
    "import requests\n",
    "import pandas as pd\n",
    "import json\n",
    "import time\n",
    "import pyodbc \n",
    "import urllib\n",
    "import sqlalchemy\n",
    "import os\n",
    "import bs4\n",
    "import html5lib"
   ]
  },
  {
   "cell_type": "code",
   "execution_count": null,
   "metadata": {},
   "outputs": [],
   "source": [
    "##cria conexão com o banco\n",
    "\n",
    "DRIVER = 'SQL SERVER'\n",
    "SERVER = 'DESKTOP-2VSV2T8'\n",
    "DB_NAME = 'Projeto_Steam'\n",
    "\n",
    "conn = pyodbc.connect(f\"\"\"\n",
    "        DRIVER={{{DRIVER}}};\n",
    "        SERVER={SERVER};\n",
    "        DATABASE={DB_NAME};\n",
    "        Trust_Connection=yes;\n",
    "                        \"\"\")\n",
    "\n",
    "##cria cursor para execução dos comandos em sql\n",
    "cursor = conn.cursor()\n",
    "\n",
    "##cria tabela de aplicativos geral\n",
    "cursor.execute('DROP TABLE IF EXISTS Jogos CREATE TABLE Jogos (Appid bigint, Nome varchar(1000))')\n",
    "\n",
    "##comita para salvar as alterações\n",
    "cursor.commit()\n",
    "\n",
    "\n",
    "##insere dados dos apps na tabela\n",
    "##df.to_sql('apps_steam',con=conn,if_exists='replace')\n"
   ]
  },
  {
   "cell_type": "code",
   "execution_count": null,
   "metadata": {},
   "outputs": [],
   "source": [
    "##valida numero de paginas da api com os jogos\n",
    "steam_spy = f'https://steamspy.com/api.php?request=all&page={63}'\n",
    "novo_request = requests.get(steam_spy)\n",
    "\n",
    "\n",
    "\n",
    "if novo_request.status_code == 200:\n",
    "    print('true')\n",
    "else:\n",
    "     print('false')"
   ]
  },
  {
   "cell_type": "code",
   "execution_count": null,
   "metadata": {},
   "outputs": [],
   "source": [
    "##extrai dados da api\n",
    "\n",
    "pagination = 1\n",
    "lista_de_jogos = []\n",
    "\n",
    "# steam_spy = 'https://steamspy.com/api.php?request=all&page=1'\n",
    "# novo_request = requests.get(steam_spy)\n",
    "# df = json.loads(novo_request.text)\n",
    "\n",
    "\n",
    "while True :\n",
    "    try:\n",
    "        steam_spy = f'https://steamspy.com/api.php?request=all&page={pagination}'\n",
    "        novo_request = requests.get(steam_spy)\n",
    "        df =  json.loads(novo_request.text) \n",
    "        for x in df:\n",
    "            lista_de_jogos.append((df[x].get('appid'), df[x].get('name'),df[x].get('developer'),df[x].get('publisher'),df[x].get('ccu'),df[x].get('positive'),df[x].get('negative')))\n",
    "        \n",
    "        pagination = pagination + 1\n",
    "    except:\n",
    "        print('carga finalizada')\n",
    "        break\n",
    "\n",
    "\n",
    "\n",
    "\n",
    "\n",
    "\n"
   ]
  },
  {
   "cell_type": "code",
   "execution_count": null,
   "metadata": {},
   "outputs": [],
   "source": [
    "##tranforma em df e renomeia colunas\n",
    "df = pd.DataFrame(lista_de_jogos)\n",
    "df.columns = ['appid','nome','desenvolvedor','distribuidora','ccu','positivo','negativo']\n",
    "\n",
    "df\n"
   ]
  },
  {
   "cell_type": "code",
   "execution_count": null,
   "metadata": {},
   "outputs": [],
   "source": [
    "##insere dados dos jogos na tabela\n",
    "\n",
    "for index,row in df.iterrows():\n",
    "    cursor.execute(f'insert into Jogos  (appid,nome) values(?,?)',row.appid,row.nome)\n",
    "\n",
    "cursor.commit()\n"
   ]
  },
  {
   "cell_type": "code",
   "execution_count": null,
   "metadata": {},
   "outputs": [],
   "source": [
    "##le dados de uma tabela\n",
    "pd.read_sql_query('select * from Jogos',con=conn) "
   ]
  },
  {
   "cell_type": "code",
   "execution_count": null,
   "metadata": {},
   "outputs": [],
   "source": [
    "##levar para o power bi"
   ]
  },
  {
   "cell_type": "code",
   "execution_count": null,
   "metadata": {},
   "outputs": [],
   "source": [
    "cursor = conn.cursor()\n",
    "cursor.execute('CREATE TABLE Jogos (Appid bigint, Nome varchar(1000))')\n",
    "cursor.commit()\n",
    "\n",
    "\n"
   ]
  },
  {
   "cell_type": "code",
   "execution_count": null,
   "metadata": {},
   "outputs": [],
   "source": [
    "##df[['appid','nome']][0:4] ##selecionando mais de uma coluna\n",
    "##df.query('appid == 21090')## filtrando um jogo"
   ]
  },
  {
   "cell_type": "code",
   "execution_count": null,
   "metadata": {},
   "outputs": [],
   "source": []
  },
  {
   "cell_type": "code",
   "execution_count": null,
   "metadata": {},
   "outputs": [],
   "source": []
  },
  {
   "cell_type": "code",
   "execution_count": null,
   "metadata": {},
   "outputs": [],
   "source": [
    "import requests\n",
    "from bs4 import BeautifulSoup\n",
    "\n",
    "placas = []\n",
    "\n",
    "# Faz o download do conteúdo da página\n",
    "url = \"https://store.steampowered.com/hwsurvey/videocard/\"\n",
    "response = requests.get(url)\n",
    "content = response.content\n",
    "\n",
    "# Cria um objeto BeautifulSoup para analisar o conteúdo HTML\n",
    "soup = BeautifulSoup(content, \"html.parser\")\n",
    "\n",
    "soup.find_all\n",
    "\n",
    "# # Encontra a div com o id \"sub_stats\"\n",
    "# for i in range(1,400,1):\n",
    "\n",
    "#     div_sub_stats = soup.find_all(\"div\", {\"class\": f\"substats_row row_0\"})\n",
    "\n",
    "\n",
    "#     # Extrai os dados dentro da div\n",
    "#     data = div_sub_stats.text.strip()\n",
    "\n",
    "#     # Formata os dados em colunas\n",
    "#     columns = data.split('\\n')\n",
    "#     columns = [col.strip() for col in columns if col.strip()]\n",
    "#     placas.append(columns) \n",
    "\n",
    "    \n",
    "# placas\n",
    "# # Salva os dados em um arquivo de texto\n",
    "# filename = \"dados2.txt\"\n",
    "# with open(filename, \"w\") as file:\n",
    "#     max_length = max(len(col) for col in columns)\n",
    "#     for col in columns:\n",
    "#         file.write(\"{:<{}}\\n\".format(col, max_length))\n",
    "\n",
    "# print(\"Os dados foram salvos em\", filename)\n"
   ]
  },
  {
   "cell_type": "code",
   "execution_count": null,
   "metadata": {},
   "outputs": [],
   "source": [
    "\n",
    "\n",
    "# Faz o download do conteúdo da página\n",
    "url = \"https://store.steampowered.com/hwsurvey/videocard/\"\n",
    "response = requests.get(url)\n",
    "content = response.content\n",
    "\n",
    "# Cria um objeto BeautifulSoup para analisar o conteúdo HTML\n",
    "soup = BeautifulSoup(content, \"html.parser\")\n",
    "\n",
    "# Encontra todas as divs com a classe \"substats_row row_0\"\n",
    "divs = soup.find_all(\"div\", class_=\"substats_row row_0\")\n",
    "\n",
    "# Extrai os dados de cada div\n",
    "data_list = []\n",
    "for div in divs:\n",
    "    data = div.get_text(separator='|', strip=True)\n",
    "    data_list.append(data)\n",
    "\n",
    "# Imprime os dados\n",
    "for data in data_list:\n",
    "    print(data)\n"
   ]
  },
  {
   "cell_type": "code",
   "execution_count": null,
   "metadata": {},
   "outputs": [],
   "source": []
  },
  {
   "cell_type": "code",
   "execution_count": null,
   "metadata": {},
   "outputs": [],
   "source": []
  },
  {
   "cell_type": "code",
   "execution_count": null,
   "metadata": {},
   "outputs": [],
   "source": [
    "meses = {'DEZ':[],'JAN':[],'FEV':[],'MAR':[],'ABR':[],'RESULTADO':[]}\n",
    "\n",
    "with open('dados.txt','r') as file:\n",
    "    lines = file.readlines()\n",
    "\n",
    "    for i in range(1,len(lines),7):\n",
    "        line = lines[i].rstrip('\\n')\n",
    "        meses['DEZ'].append(line)\n",
    "    \n",
    "    for i in range(2,len(lines),7):\n",
    "        line = lines[i].rstrip('\\n')\n",
    "        meses['JAN'].append(line)\n",
    "\n",
    "    for i in range(3,len(lines),7):\n",
    "        line = lines[i].rstrip('\\n')\n",
    "        meses['FEV'].append(line)\n",
    "\n",
    "    for i in range(4,len(lines),7):\n",
    "        line = lines[i].rstrip('\\n')\n",
    "        meses['MAR'].append(line)\n",
    "\n",
    "    for i in range(5,len(lines),7):\n",
    "        line = lines[i].rstrip('\\n')\n",
    "        meses['ABR'].append(line)\n",
    "\n",
    "    for i in range(6,len(lines),7):\n",
    "        line = lines[i].rstrip('\\n')\n",
    "        meses['RESULTADO'].append(line)\n",
    "meses\n",
    "\n"
   ]
  },
  {
   "cell_type": "code",
   "execution_count": null,
   "metadata": {},
   "outputs": [],
   "source": [
    "percentuais = []\n",
    "\n",
    "with open('dados.txt','r') as file:\n",
    "    lines = file.readlines()\n",
    "\n",
    "    for i in range(1,len(lines),7):\n",
    "        line = lines[i].rstrip('\\n').strip()\n",
    "        percentuais.append(line)\n",
    "    \n",
    "    for i in range(2,len(lines),7):\n",
    "        line = lines[i].rstrip('\\n').strip()\n",
    "        percentuais.append(line)\n",
    "\n",
    "    # for i in range(3,len(lines),7):\n",
    "    #     line = lines[i].rstrip('\\n').strip()\n",
    "    #     percentuais.append(line)\n",
    "\n",
    "    # for i in range(4,len(lines),7):\n",
    "    #     line = lines[i].rstrip('\\n').strip()\n",
    "    #     percentuais.append(line)\n",
    "\n",
    "    # for i in range(5,len(lines),7):\n",
    "    #     line = lines[i].rstrip('\\n').strip()\n",
    "    #     percentuais.append(line)\n",
    "\n",
    "    # for i in range(6,len(lines),7):\n",
    "    #     line = lines[i].rstrip('\\n').strip()\n",
    "    #     percentuais.append(line)\n",
    "percentuais\n"
   ]
  },
  {
   "cell_type": "code",
   "execution_count": null,
   "metadata": {},
   "outputs": [],
   "source": [
    "for lista in placas.values():\n",
    "    lista.extend(percentuais[:5]) \n",
    "\n",
    "placas\n",
    "\n"
   ]
  },
  {
   "cell_type": "code",
   "execution_count": null,
   "metadata": {},
   "outputs": [],
   "source": [
    "dicionario = {\n",
    "    'lista1': [],\n",
    "    'lista2': [],\n",
    "    'lista3': [],\n",
    "    'lista4': []\n",
    "}\n",
    "\n",
    "itens = ['Item 1', 'Item 2', 'Item 3', 'Item 4', 'Item 5', 'Item 6', 'Item 7', 'Item 8', 'Item 9', 'Item 10','Item 11','Item 12']\n",
    "\n",
    "itens_por_lista = 4\n",
    "\n",
    "inicio = 0\n",
    "fim = itens_por_lista\n",
    "\n",
    "for lista in dicionario.values():\n",
    "    lista.extend(itens[inicio:fim])\n",
    "    inicio = fim\n",
    "    fim = inicio + itens_por_lista\n",
    "\n",
    "print(dicionario)\n"
   ]
  },
  {
   "cell_type": "code",
   "execution_count": null,
   "metadata": {},
   "outputs": [],
   "source": [
    "\n",
    "itens_por_lista = 5\n",
    "\n",
    "inicio = 0\n",
    "fim = itens_por_lista\n",
    "\n",
    "\n",
    "for lista in placas.values():\n",
    "    lista.extend(percentuais[inicio:fim])\n",
    "    print(percentuais[inicio:fim])\n",
    "    # inicio = fim\n",
    "    # fim = inicio + itens_por_lista\n",
    "\n",
    "placas"
   ]
  },
  {
   "cell_type": "code",
   "execution_count": null,
   "metadata": {},
   "outputs": [],
   "source": [
    "with open('dados.txt','r') as file:\n",
    "    lines = file.readlines()\n",
    "\n",
    "for i in meses:\n",
    "    for i in range(1,len(lines),7):\n",
    "        line = lines[i].rstrip('\\n')\n",
    "        placas.append(line)"
   ]
  },
  {
   "cell_type": "code",
   "execution_count": null,
   "metadata": {},
   "outputs": [],
   "source": [
    "cursor.execute('select * from jogos').fetchall()\n",
    "\n",
    "conn.close()"
   ]
  }
 ],
 "metadata": {
  "kernelspec": {
   "display_name": ".venv",
   "language": "python",
   "name": "python3"
  },
  "language_info": {
   "codemirror_mode": {
    "name": "ipython",
    "version": 3
   },
   "file_extension": ".py",
   "mimetype": "text/x-python",
   "name": "python",
   "nbconvert_exporter": "python",
   "pygments_lexer": "ipython3",
   "version": "3.11.5"
  },
  "orig_nbformat": 4
 },
 "nbformat": 4,
 "nbformat_minor": 2
}
